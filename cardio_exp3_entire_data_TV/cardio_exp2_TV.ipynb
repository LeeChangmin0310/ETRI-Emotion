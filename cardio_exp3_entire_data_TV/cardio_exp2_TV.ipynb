{
 "cells": [
  {
   "cell_type": "markdown",
   "id": "0b7b9478",
   "metadata": {},
   "source": [
    "# Description: \n",
    "##### This script performs a 5-fold cross-validation on the ENTIRE dataset for each of the 6 data files.\n",
    "* It does not create a separate hold-out test set. \n",
    "* The result is the average performance of models across the 5 folds. \n",
    "* This is useful for understanding how well models perform on the dataset as a whole when using cross-validation."
   ]
  },
  {
   "cell_type": "markdown",
   "id": "1da93039",
   "metadata": {},
   "source": [
    "# Instructions:\n",
    "1. Make sure you have PyCaret and its dependencies installed.\n",
    "If not, uncomment the line below and run it once.\n",
    "> !pip install pycaret pandas\n",
    "\n",
    "2. Place this script in the same directory as your 90 CSV data files.\n",
    "\n",
    "3. Run the script."
   ]
  },
  {
   "cell_type": "code",
   "execution_count": null,
   "id": "7e18e9e5",
   "metadata": {},
   "outputs": [],
   "source": [
    "import os\n",
    "import pandas as pd\n",
    "from pycaret.classification import *"
   ]
  },
  {
   "cell_type": "code",
   "execution_count": 4,
   "id": "b2746f90",
   "metadata": {},
   "outputs": [
    {
     "name": "stdout",
     "output_type": "stream",
     "text": [
      "/Users/leechangmin/Desktop/Project/ETRI-Emotion/src\n"
     ]
    }
   ],
   "source": [
    "!pwd"
   ]
  },
  {
   "cell_type": "code",
   "execution_count": null,
   "id": "ee8689c5",
   "metadata": {},
   "outputs": [],
   "source": [
    "def experiment_2_full_data_cv():\n",
    "    \"\"\"\n",
    "    Runs 5-fold CV on the entire dataset without a hold-out set.\n",
    "    \"\"\"\n",
    "    # --- Configuration ---\n",
    "    TARGET_COLUMN_NAME = 'label'\n",
    "    DATA_DIR = './data'\n",
    "    RESULT_DIR = './res'\n",
    "    GROUPS = ['Total', 'High', 'Low']\n",
    "    VARIABLES = ['arousal', 'valence']\n",
    "    \n",
    "    # Create the result directory if it doesn't exist\n",
    "    os.makedirs(RESULT_DIR, exist_ok=True)\n",
    "    \n",
    "    print(\"==========================================================\")\n",
    "    print(\"===  STARTING EXPERIMENT 2: 5-Fold CV on Full Dataset  ===\")\n",
    "    print(\"==========================================================\")\n",
    "\n",
    "    for group in GROUPS:\n",
    "        for variable in VARIABLES:\n",
    "            experiment_name = f\"{group}_{variable}\"\n",
    "            file_path = os.path.join(DATA_DIR, f\"{experiment_name}.csv\")\n",
    "\n",
    "            if not os.path.exists(file_path):\n",
    "                print(f\"\\n--- Skipping {experiment_name}: File not found at {file_path} ---\")\n",
    "                continue\n",
    "\n",
    "            print(f\"\\n--- Processing: {experiment_name} ---\")\n",
    "            \n",
    "            # 1. Load the full dataset\n",
    "            full_dataset = pd.read_csv(file_path)\n",
    "            \n",
    "            # 2. Setup PyCaret environment using the entire dataset.\n",
    "            # PyCaret's functions will use 5-fold CV for all operations.\n",
    "            s = setup(data=full_dataset,\n",
    "                      target=TARGET_COLUMN_NAME,\n",
    "                      fold=5,  # Specify 5-fold cross-validation\n",
    "                      index=False,\n",
    "                      session_id=123,\n",
    "                      verbose=False)\n",
    "            \n",
    "            # 3. Compare models using 5-fold CV on the entire dataset\n",
    "            print(\"  > Comparing models using 5-fold CV...\")\n",
    "            compare_models(verbose=False)\n",
    "            \n",
    "            # 4. Pull the results grid, which shows the average performance across the 5 folds\n",
    "            cv_results = pull()\n",
    "            \n",
    "            # 5. Save the cross-validation results to a CSV file\n",
    "            output_path = os.path.join(RESULT_DIR, f\"exp2_cv_performance_{experiment_name}.csv\")\n",
    "            cv_results.to_csv(output_path)\n",
    "            print(f\"  > Average 5-fold CV performance saved to {output_path}\")\n"
   ]
  },
  {
   "cell_type": "code",
   "execution_count": null,
   "id": "bf772b47",
   "metadata": {},
   "outputs": [],
   "source": [
    "if __name__ == '__main__':\n",
    "    experiment_2_full_data_cv()\n",
    "    print(\"\\n\\nExperiment 2 is complete.\")"
   ]
  },
  {
   "cell_type": "markdown",
   "id": "9da597e6",
   "metadata": {},
   "source": [
    "### Load Results"
   ]
  },
  {
   "cell_type": "code",
   "execution_count": 1,
   "id": "2e157c76",
   "metadata": {},
   "outputs": [],
   "source": [
    "def load_all_results():\n",
    "    \"\"\"\n",
    "    Read 'results_{group}_{variable}_classification_summary.csv' formatted files\n",
    "    and return a dictionary of DataFrames.\n",
    "    \"\"\"\n",
    "    # --- Configuration (can be adjusted as needed) ---\n",
    "    groups = ['Total', 'High', 'Low']\n",
    "    variables = ['arousal', 'valence']\n",
    "    \n",
    "    # dictionary to hold all results\n",
    "    all_results = {}\n",
    "    \n",
    "    print(\"Reading all result CSV files...\")\n",
    "\n",
    "    # Iterate through each group and variable to construct filenames\n",
    "    for group in groups:\n",
    "        for variable in variables:\n",
    "            # Construct the filename based on the group and variable\n",
    "            experiment_name = f\"{group}_{variable}\"\n",
    "            filename = f\"./res/results_{experiment_name}_classification_summary.csv\"\n",
    "            \n",
    "            try:\n",
    "                # CSV file into DataFrame\n",
    "                # index_col=0 to use the first column as index\n",
    "                df = pd.read_csv(filename, index_col=0)\n",
    "                \n",
    "                # Store the DataFrame in the dictionary with the experiment name as key\n",
    "                all_results[experiment_name] = df\n",
    "                print(f\"  - Successfully loaded: {filename}\")\n",
    "                \n",
    "            except FileNotFoundError:\n",
    "                print(f\"  - File not found, skipping: {filename}\")\n",
    "                \n",
    "    return all_results"
   ]
  },
  {
   "cell_type": "code",
   "execution_count": null,
   "id": "08ee35c7",
   "metadata": {},
   "outputs": [],
   "source": [
    "if __name__ == '__main__':\n",
    "    loaded_results = load_all_results()\n",
    "    print(\"\\n--- Summary of Loaded Results ---\")\n",
    "    \n",
    "    if not loaded_results:\n",
    "        print(\"No result files were found.\")\n",
    "    else:\n",
    "        # Display the top 5 models for each loaded result\n",
    "        for name, result_df in loaded_results.items():\n",
    "            print(f\"\\n--- Top 5 Models for [{name}] ---\")\n",
    "            print(result_df.head())"
   ]
  }
 ],
 "metadata": {
  "kernelspec": {
   "display_name": "etri-emotion",
   "language": "python",
   "name": "python3"
  },
  "language_info": {
   "codemirror_mode": {
    "name": "ipython",
    "version": 3
   },
   "file_extension": ".py",
   "mimetype": "text/x-python",
   "name": "python",
   "nbconvert_exporter": "python",
   "pygments_lexer": "ipython3",
   "version": "3.10.18"
  }
 },
 "nbformat": 4,
 "nbformat_minor": 5
}
